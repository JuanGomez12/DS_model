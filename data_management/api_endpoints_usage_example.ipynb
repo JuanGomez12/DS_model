{
 "cells": [
  {
   "cell_type": "code",
   "execution_count": 1,
   "metadata": {},
   "outputs": [],
   "source": [
    "import requests"
   ]
  },
  {
   "cell_type": "markdown",
   "metadata": {},
   "source": [
    "# Add data"
   ]
  },
  {
   "cell_type": "code",
   "execution_count": 2,
   "metadata": {},
   "outputs": [
    {
     "data": {
      "text/plain": [
       "{'data_added': {'AT': 21.0, 'V': 55.0, 'AP': 1010.0, 'RH': 75.0, 'PE': 460.0}}"
      ]
     },
     "execution_count": 2,
     "metadata": {},
     "output_type": "execute_result"
    }
   ],
   "source": [
    "AT = 21\n",
    "V = 55\n",
    "AP = 1010\n",
    "RH = 75\n",
    "PE = 460\n",
    "\n",
    "\n",
    "data = {\"AT\": AT, \"V\": V, \"AP\": AP, \"RH\": RH, \"PE\": PE}\n",
    "\n",
    "url = \"http://localhost:8080/power_plant_data/add/\"\n",
    "response = requests.post(url, json=data)\n",
    "response.json()"
   ]
  },
  {
   "cell_type": "markdown",
   "metadata": {},
   "source": [
    "# Get data"
   ]
  },
  {
   "cell_type": "markdown",
   "metadata": {},
   "source": [
    "## Total rows"
   ]
  },
  {
   "cell_type": "code",
   "execution_count": 3,
   "metadata": {},
   "outputs": [
    {
     "data": {
      "text/plain": [
       "{'rows': 9576}"
      ]
     },
     "execution_count": 3,
     "metadata": {},
     "output_type": "execute_result"
    }
   ],
   "source": [
    "url = \"http://localhost:8080/power_plant_data/total_rows\"\n",
    "response = requests.get(url)\n",
    "response.json()"
   ]
  },
  {
   "cell_type": "markdown",
   "metadata": {},
   "source": [
    "## Specific ID"
   ]
  },
  {
   "cell_type": "code",
   "execution_count": 4,
   "metadata": {},
   "outputs": [
    {
     "data": {
      "text/plain": [
       "{'5': {'at': 10.82, 'v': 37.5, 'ap': 1009.23, 'rh': 96.62, 'pe': 473.9}}"
      ]
     },
     "execution_count": 4,
     "metadata": {},
     "output_type": "execute_result"
    }
   ],
   "source": [
    "id = 5\n",
    "url = f\"http://localhost:8080/power_plant_data/{id}\"\n",
    "response = requests.get(url)\n",
    "response.json()"
   ]
  },
  {
   "cell_type": "markdown",
   "metadata": {},
   "source": [
    "# Multiple rows"
   ]
  },
  {
   "cell_type": "code",
   "execution_count": 5,
   "metadata": {},
   "outputs": [
    {
     "data": {
      "text/plain": [
       "{'16': {'at': 21.42, 'v': 43.79, 'ap': 1015.76, 'rh': 43.08, 'pe': 462.19},\n",
       " '17': {'at': 18.21, 'v': 45.0, 'ap': 1022.86, 'rh': 48.84, 'pe': 467.54},\n",
       " '18': {'at': 11.04, 'v': 41.74, 'ap': 1022.6, 'rh': 77.51, 'pe': 477.2},\n",
       " '19': {'at': 14.45, 'v': 52.75, 'ap': 1023.97, 'rh': 63.59, 'pe': 459.85},\n",
       " '20': {'at': 13.97, 'v': 38.47, 'ap': 1015.15, 'rh': 55.28, 'pe': 464.3},\n",
       " '21': {'at': 17.76, 'v': 42.42, 'ap': 1009.09, 'rh': 66.26, 'pe': 468.27},\n",
       " '22': {'at': 5.41, 'v': 40.07, 'ap': 1019.16, 'rh': 64.77, 'pe': 495.24},\n",
       " '23': {'at': 7.76, 'v': 42.28, 'ap': 1008.52, 'rh': 83.31, 'pe': 483.8},\n",
       " '24': {'at': 27.23, 'v': 63.9, 'ap': 1014.3, 'rh': 47.19, 'pe': 443.61},\n",
       " '25': {'at': 27.36, 'v': 48.6, 'ap': 1003.18, 'rh': 54.93, 'pe': 436.06}}"
      ]
     },
     "execution_count": 5,
     "metadata": {},
     "output_type": "execute_result"
    }
   ],
   "source": [
    "skip = 15  # 0 based\n",
    "limit = 10\n",
    "url = f\"http://localhost:8080/power_plant_data/retrieve_range?skip={skip}&limit={limit}\"\n",
    "response = requests.get(url)\n",
    "response.json()"
   ]
  },
  {
   "cell_type": "markdown",
   "metadata": {},
   "source": [
    "# Server Health"
   ]
  },
  {
   "cell_type": "code",
   "execution_count": 6,
   "metadata": {},
   "outputs": [
    {
     "data": {
      "text/plain": [
       "<Response [200]>"
      ]
     },
     "execution_count": 6,
     "metadata": {},
     "output_type": "execute_result"
    }
   ],
   "source": [
    "requests.get(\"http://127.0.0.1:8080/health\")"
   ]
  }
 ],
 "metadata": {
  "kernelspec": {
   "display_name": "fastapi",
   "language": "python",
   "name": "python3"
  },
  "language_info": {
   "codemirror_mode": {
    "name": "ipython",
    "version": 3
   },
   "file_extension": ".py",
   "mimetype": "text/x-python",
   "name": "python",
   "nbconvert_exporter": "python",
   "pygments_lexer": "ipython3",
   "version": "3.11.6"
  }
 },
 "nbformat": 4,
 "nbformat_minor": 2
}
