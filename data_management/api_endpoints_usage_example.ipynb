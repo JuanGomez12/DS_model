{
 "cells": [
  {
   "cell_type": "code",
   "execution_count": 1,
   "metadata": {},
   "outputs": [],
   "source": [
    "import requests"
   ]
  },
  {
   "cell_type": "markdown",
   "metadata": {},
   "source": [
    "# Add data"
   ]
  },
  {
   "cell_type": "code",
   "execution_count": 2,
   "metadata": {},
   "outputs": [
    {
     "data": {
      "text/plain": [
       "{'detail': [{'type': 'missing',\n",
       "   'loc': ['body', 'temperature'],\n",
       "   'msg': 'Field required',\n",
       "   'input': {'AT': 21, 'V': 55, 'AP': 1010, 'RH': 75, 'PE': 460},\n",
       "   'url': 'https://errors.pydantic.dev/2.4/v/missing'},\n",
       "  {'type': 'missing',\n",
       "   'loc': ['body', 'exhaust_vacuum'],\n",
       "   'msg': 'Field required',\n",
       "   'input': {'AT': 21, 'V': 55, 'AP': 1010, 'RH': 75, 'PE': 460},\n",
       "   'url': 'https://errors.pydantic.dev/2.4/v/missing'},\n",
       "  {'type': 'missing',\n",
       "   'loc': ['body', 'atmospheric_pressure'],\n",
       "   'msg': 'Field required',\n",
       "   'input': {'AT': 21, 'V': 55, 'AP': 1010, 'RH': 75, 'PE': 460},\n",
       "   'url': 'https://errors.pydantic.dev/2.4/v/missing'},\n",
       "  {'type': 'missing',\n",
       "   'loc': ['body', 'relative_humidity'],\n",
       "   'msg': 'Field required',\n",
       "   'input': {'AT': 21, 'V': 55, 'AP': 1010, 'RH': 75, 'PE': 460},\n",
       "   'url': 'https://errors.pydantic.dev/2.4/v/missing'},\n",
       "  {'type': 'missing',\n",
       "   'loc': ['body', 'electrical_output'],\n",
       "   'msg': 'Field required',\n",
       "   'input': {'AT': 21, 'V': 55, 'AP': 1010, 'RH': 75, 'PE': 460},\n",
       "   'url': 'https://errors.pydantic.dev/2.4/v/missing'}]}"
      ]
     },
     "execution_count": 2,
     "metadata": {},
     "output_type": "execute_result"
    }
   ],
   "source": [
    "AT = 21\n",
    "V = 55\n",
    "AP = 1010\n",
    "RH = 75\n",
    "PE = 460\n",
    "\n",
    "\n",
    "data = {\"AT\": AT, \"V\": V, \"AP\": AP, \"RH\": RH, \"PE\": PE}\n",
    "\n",
    "url = \"http://localhost:8080/power_plant_data/add/\"\n",
    "response = requests.post(url, json=data)\n",
    "response.json()"
   ]
  },
  {
   "cell_type": "markdown",
   "metadata": {},
   "source": [
    "# Get data"
   ]
  },
  {
   "cell_type": "markdown",
   "metadata": {},
   "source": [
    "## Total rows"
   ]
  },
  {
   "cell_type": "code",
   "execution_count": 3,
   "metadata": {},
   "outputs": [
    {
     "data": {
      "text/plain": [
       "{'rows': 9568}"
      ]
     },
     "execution_count": 3,
     "metadata": {},
     "output_type": "execute_result"
    }
   ],
   "source": [
    "url = \"http://localhost:8080/power_plant_data/total_rows\"\n",
    "response = requests.get(url)\n",
    "response.json()"
   ]
  },
  {
   "cell_type": "markdown",
   "metadata": {},
   "source": [
    "## Get Column Names"
   ]
  },
  {
   "cell_type": "code",
   "execution_count": 4,
   "metadata": {},
   "outputs": [
    {
     "data": {
      "text/plain": [
       "{'id': 'integer',\n",
       " 'temperature': 'numeric',\n",
       " 'exhaust_vacuum': 'numeric',\n",
       " 'atmospheric_pressure': 'numeric',\n",
       " 'relative_humidity': 'numeric',\n",
       " 'electrical_output': 'numeric'}"
      ]
     },
     "execution_count": 4,
     "metadata": {},
     "output_type": "execute_result"
    }
   ],
   "source": [
    "return_id = True\n",
    "url = f\"http://localhost:8080/power_plant_data/column_types?return_id={return_id}\"\n",
    "response = requests.get(url)\n",
    "response.json()"
   ]
  },
  {
   "cell_type": "markdown",
   "metadata": {},
   "source": [
    "## Get Column Types"
   ]
  },
  {
   "cell_type": "code",
   "execution_count": 5,
   "metadata": {},
   "outputs": [
    {
     "data": {
      "text/plain": [
       "{'column_names': ['temperature',\n",
       "  'exhaust_vacuum',\n",
       "  'atmospheric_pressure',\n",
       "  'relative_humidity',\n",
       "  'electrical_output']}"
      ]
     },
     "execution_count": 5,
     "metadata": {},
     "output_type": "execute_result"
    }
   ],
   "source": [
    "return_id = False\n",
    "url = f\"http://localhost:8080/power_plant_data/column_names?return_id={return_id}\"\n",
    "response = requests.get(url)\n",
    "response.json()"
   ]
  },
  {
   "cell_type": "markdown",
   "metadata": {},
   "source": [
    "## Specific ID"
   ]
  },
  {
   "cell_type": "code",
   "execution_count": 6,
   "metadata": {},
   "outputs": [
    {
     "data": {
      "text/plain": [
       "{'5': {'temperature': 10.82,\n",
       "  'exhaust_vacuum': 37.5,\n",
       "  'atmospheric_pressure': 1009.23,\n",
       "  'relative_humidity': 96.62,\n",
       "  'electrical_output': 473.9}}"
      ]
     },
     "execution_count": 6,
     "metadata": {},
     "output_type": "execute_result"
    }
   ],
   "source": [
    "id = 5\n",
    "url = f\"http://localhost:8080/power_plant_data/{id}\"\n",
    "response = requests.get(url)\n",
    "response.json()"
   ]
  },
  {
   "cell_type": "markdown",
   "metadata": {},
   "source": [
    "# Multiple rows"
   ]
  },
  {
   "cell_type": "code",
   "execution_count": 7,
   "metadata": {},
   "outputs": [
    {
     "data": {
      "text/plain": [
       "{'16': {'temperature': 21.42,\n",
       "  'exhaust_vacuum': 43.79,\n",
       "  'atmospheric_pressure': 1015.76,\n",
       "  'relative_humidity': 43.08,\n",
       "  'electrical_output': 462.19},\n",
       " '17': {'temperature': 18.21,\n",
       "  'exhaust_vacuum': 45.0,\n",
       "  'atmospheric_pressure': 1022.86,\n",
       "  'relative_humidity': 48.84,\n",
       "  'electrical_output': 467.54},\n",
       " '18': {'temperature': 11.04,\n",
       "  'exhaust_vacuum': 41.74,\n",
       "  'atmospheric_pressure': 1022.6,\n",
       "  'relative_humidity': 77.51,\n",
       "  'electrical_output': 477.2},\n",
       " '19': {'temperature': 14.45,\n",
       "  'exhaust_vacuum': 52.75,\n",
       "  'atmospheric_pressure': 1023.97,\n",
       "  'relative_humidity': 63.59,\n",
       "  'electrical_output': 459.85},\n",
       " '20': {'temperature': 13.97,\n",
       "  'exhaust_vacuum': 38.47,\n",
       "  'atmospheric_pressure': 1015.15,\n",
       "  'relative_humidity': 55.28,\n",
       "  'electrical_output': 464.3}}"
      ]
     },
     "execution_count": 7,
     "metadata": {},
     "output_type": "execute_result"
    }
   ],
   "source": [
    "skip = 15  # 0 based\n",
    "limit = 5\n",
    "url = f\"http://localhost:8080/power_plant_data/retrieve_range?skip={skip}&limit={limit}\"\n",
    "response = requests.get(url)\n",
    "response.json()"
   ]
  },
  {
   "cell_type": "markdown",
   "metadata": {},
   "source": [
    "# Server Health"
   ]
  },
  {
   "cell_type": "code",
   "execution_count": 8,
   "metadata": {},
   "outputs": [
    {
     "data": {
      "text/plain": [
       "<Response [200]>"
      ]
     },
     "execution_count": 8,
     "metadata": {},
     "output_type": "execute_result"
    }
   ],
   "source": [
    "requests.get(\"http://127.0.0.1:8080/health\")"
   ]
  }
 ],
 "metadata": {
  "kernelspec": {
   "display_name": "fastapi",
   "language": "python",
   "name": "python3"
  },
  "language_info": {
   "codemirror_mode": {
    "name": "ipython",
    "version": 3
   },
   "file_extension": ".py",
   "mimetype": "text/x-python",
   "name": "python",
   "nbconvert_exporter": "python",
   "pygments_lexer": "ipython3",
   "version": "3.11.6"
  }
 },
 "nbformat": 4,
 "nbformat_minor": 2
}
