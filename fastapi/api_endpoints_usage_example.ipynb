{
 "cells": [
  {
   "cell_type": "code",
   "execution_count": 1,
   "metadata": {},
   "outputs": [],
   "source": [
    "import requests"
   ]
  },
  {
   "cell_type": "code",
   "execution_count": 10,
   "metadata": {},
   "outputs": [],
   "source": [
    "age=0.5\n",
    "sex=0.5\n",
    "bmi=0.5\n",
    "bp=0.5\n",
    "s1=0.5\n",
    "s2=0.5\n",
    "s3=0.5\n",
    "s4=0.5\n",
    "s5=0.5\n",
    "s6=0.5\n",
    "\n",
    "data = {'age':age, 'sex':sex, 'bmi':bmi, 'bp':bp, 's1':s1, 's2':s2, 's3':s3, 's4':s4, 's5':s5,'s6':s6}\n",
    "requests.post('http://127.0.0.1:8000/XGB/latest/predict',json=data)"
   ]
  },
  {
   "cell_type": "code",
   "execution_count": null,
   "metadata": {},
   "outputs": [],
   "source": []
  }
 ],
 "metadata": {
  "kernelspec": {
   "display_name": "fastapi",
   "language": "python",
   "name": "python3"
  },
  "language_info": {
   "codemirror_mode": {
    "name": "ipython",
    "version": 3
   },
   "file_extension": ".py",
   "mimetype": "text/x-python",
   "name": "python",
   "nbconvert_exporter": "python",
   "pygments_lexer": "ipython3",
   "version": "3.11.5"
  }
 },
 "nbformat": 4,
 "nbformat_minor": 2
}
